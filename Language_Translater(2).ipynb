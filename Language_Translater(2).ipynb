{
 "cells": [
  {
   "cell_type": "markdown",
   "id": "bf118866",
   "metadata": {},
   "source": [
    "# Bharat Intern - VIRTUAL INTERNSHIP PROGRAM 2023"
   ]
  },
  {
   "cell_type": "markdown",
   "id": "8bfd4afe",
   "metadata": {},
   "source": [
    "# By - Riya Kumari"
   ]
  },
  {
   "cell_type": "markdown",
   "id": "7583b183",
   "metadata": {},
   "source": [
    "# Task 1 - Transaltor App: \n",
    "Create a translator AI which translate between any two languages."
   ]
  },
  {
   "cell_type": "markdown",
   "id": "ba1bb0ec",
   "metadata": {},
   "source": [
    "# 1. Installing translate:\n",
    "\n",
    "Installation of this package is required before starting the project. Translation of major languages is provided by this package. To install this package run the following command on the command prompt or terminal window."
   ]
  },
  {
   "cell_type": "code",
   "execution_count": 8,
   "id": "36f7a4c6",
   "metadata": {},
   "outputs": [
    {
     "name": "stdout",
     "output_type": "stream",
     "text": [
      "Requirement already satisfied: translate in c:\\users\\dell\\anaconda3\\lib\\site-packages (3.6.1)\n",
      "Requirement already satisfied: click in c:\\users\\dell\\anaconda3\\lib\\site-packages (from translate) (8.0.4)\n",
      "Requirement already satisfied: libretranslatepy==2.1.1 in c:\\users\\dell\\anaconda3\\lib\\site-packages (from translate) (2.1.1)\n",
      "Requirement already satisfied: requests in c:\\users\\dell\\anaconda3\\lib\\site-packages (from translate) (2.27.1)\n",
      "Requirement already satisfied: lxml in c:\\users\\dell\\anaconda3\\lib\\site-packages (from translate) (4.8.0)\n",
      "Requirement already satisfied: colorama in c:\\users\\dell\\anaconda3\\lib\\site-packages (from click->translate) (0.4.6)\n",
      "Requirement already satisfied: certifi>=2017.4.17 in c:\\users\\dell\\anaconda3\\lib\\site-packages (from requests->translate) (2021.10.8)\n",
      "Requirement already satisfied: idna<4,>=2.5 in c:\\users\\dell\\anaconda3\\lib\\site-packages (from requests->translate) (3.3)\n",
      "Requirement already satisfied: charset-normalizer~=2.0.0 in c:\\users\\dell\\anaconda3\\lib\\site-packages (from requests->translate) (2.0.4)\n",
      "Requirement already satisfied: urllib3<1.27,>=1.21.1 in c:\\users\\dell\\anaconda3\\lib\\site-packages (from requests->translate) (1.26.9)\n",
      "Note: you may need to restart the kernel to use updated packages.\n"
     ]
    }
   ],
   "source": [
    "pip install translate"
   ]
  },
  {
   "cell_type": "markdown",
   "id": "4c132736",
   "metadata": {},
   "source": [
    "# 2. Importing translate and tkinter:\n",
    "1. From tkinter import *: The easiest and most effective way to develop GUI applications is using tkinter. * means importing everything from tkinter.\n",
    "2. From translate import Translator: This package helps to translate major languages."
   ]
  },
  {
   "cell_type": "code",
   "execution_count": 9,
   "id": "45ea847d",
   "metadata": {},
   "outputs": [],
   "source": [
    "from tkinter import *\n",
    "from translate import Translator"
   ]
  },
  {
   "cell_type": "markdown",
   "id": "73b78168",
   "metadata": {},
   "source": [
    "# 3. Initializing window:\n",
    "    InputLanguageChoice is a variable that stores the language of the text that is being translated.\n",
    "    TranslateLanguageChoice is a variable that stores the language in which the text is to be translated.\n",
    "      1. Tk(): Root window is created with the help of Tk() class.\n",
    "      2. title(): It is used to display the title on the top of the root window."
   ]
  },
  {
   "cell_type": "code",
   "execution_count": 10,
   "id": "75431220",
   "metadata": {},
   "outputs": [],
   "source": [
    "Screen = Tk()\n",
    "Screen.title(\"Language Translator using jupyter\")\n",
    " \n",
    "InputLanguageChoice = StringVar()\n",
    "TranslateLanguageChoice = StringVar()"
   ]
  },
  {
   "cell_type": "markdown",
   "id": "0677e1ee",
   "metadata": {},
   "source": [
    "# 4. Creating tuple for choosing languages :\n",
    "    LanguageChoices is a tuple that stores five languages from which input language and translated language can be chosen.\n",
    "      1. set(): It helps to set the value of the variable. For instance: value of InputLanguageChoice is set as English                         initially which can be changed afterwards and selected from the tuple."
   ]
  },
  {
   "cell_type": "code",
   "execution_count": 11,
   "id": "c5c122dd",
   "metadata": {},
   "outputs": [],
   "source": [
    "LanguageChoices = {'Hindi','English','French','German','Spanish'}\n",
    "InputLanguageChoice.set('English')\n",
    "TranslateLanguageChoice.set('Hindi')"
   ]
  },
  {
   "cell_type": "markdown",
   "id": "5cf6d0f4",
   "metadata": {},
   "source": [
    "# 5. Creating a function for translating the text:\n",
    "    This function is created to translate the text. OutputVar is a variable that stores the translated text. TextVar is a variable that contains the text that is to be translated.\n",
    "\n",
    "     1. Translator(): It helps to translate the text.\n",
    "     2. from_lang : It is the language of the text that is being translated.\n",
    "     3. to_lang: It is the language of the text in which the text is to be translated.\n",
    "     4. get(): Value of the item is returned with the help of this method."
   ]
  },
  {
   "cell_type": "code",
   "execution_count": 12,
   "id": "9056df51",
   "metadata": {},
   "outputs": [],
   "source": [
    "def Translate():\n",
    "    translator = Translator(from_lang= InputLanguageChoice.get(),to_lang=TranslateLanguageChoice.get())\n",
    "    Translation = translator.translate(TextVar.get())\n",
    "    OutputVar.set(Translation)"
   ]
  },
  {
   "cell_type": "markdown",
   "id": "589dc5e5",
   "metadata": {},
   "source": [
    "# 6. Choice for input language and the language in which the text is to be translated :\n",
    "    InputLanguageChoiceMenu provides a choice of input languages. NewLanguageChoiceMenu provides a choice of languages in which translation of text is possible.\n",
    "\n",
    "     1. OptionMenu(): It provides the options that are available to the user.\n",
    "     2. Label(): This widget helps to implement display boxes where the text can be placed.\n",
    "     3. grid(): Widgets are arranged on the screen with the help of grid."
   ]
  },
  {
   "cell_type": "code",
   "execution_count": 13,
   "id": "e9526b05",
   "metadata": {},
   "outputs": [],
   "source": [
    "#choice for input language\n",
    "InputLanguageChoiceMenu = OptionMenu(Screen,InputLanguageChoice,*LanguageChoices)\n",
    "Label(Screen,text=\"Choose a Language\").grid(row=0,column=1)\n",
    "InputLanguageChoiceMenu.grid(row=1,column=1)\n",
    " \n",
    "#choice in which the language is to be translated\n",
    "NewLanguageChoiceMenu = OptionMenu(Screen,TranslateLanguageChoice,*LanguageChoices)\n",
    "Label(Screen,text=\"Translated Language\").grid(row=0,column=2)\n",
    "NewLanguageChoiceMenu.grid(row=1,column=2)"
   ]
  },
  {
   "cell_type": "markdown",
   "id": "3f9e495c",
   "metadata": {},
   "source": [
    "# 7. Input text :\n",
    "     1. Entry(): This widget helps to enter or display a single line text on the screen.\n",
    "     2. Button(): This widget creates a button.\n",
    "     3. relief: It helps to provide 3-D effects around the outside of the widget.\n",
    "     4. mainloop(): It helps to run the tkinter event loop.\n",
    "    "
   ]
  },
  {
   "cell_type": "code",
   "execution_count": 14,
   "id": "aae98e2f",
   "metadata": {},
   "outputs": [],
   "source": [
    "Label(Screen,text=\"Enter Text\").grid(row=2,column =0)\n",
    "TextVar = StringVar()\n",
    "TextBox = Entry(Screen,textvariable=TextVar).grid(row=2,column = 1)\n",
    " \n",
    "Label(Screen,text=\"Output Text\").grid(row=2,column =2)\n",
    "OutputVar = StringVar()\n",
    "TextBox = Entry(Screen,textvariable=OutputVar).grid(row=2,column = 3)\n",
    " \n",
    "#Button for calling function\n",
    "B = Button(Screen,text=\"Translate\",command=Translate, relief = GROOVE).grid(row=3,column=1,columnspan = 3)\n",
    " \n",
    "mainloop()"
   ]
  },
  {
   "cell_type": "code",
   "execution_count": null,
   "id": "f1c17586",
   "metadata": {},
   "outputs": [],
   "source": []
  }
 ],
 "metadata": {
  "kernelspec": {
   "display_name": "Python 3 (ipykernel)",
   "language": "python",
   "name": "python3"
  },
  "language_info": {
   "codemirror_mode": {
    "name": "ipython",
    "version": 3
   },
   "file_extension": ".py",
   "mimetype": "text/x-python",
   "name": "python",
   "nbconvert_exporter": "python",
   "pygments_lexer": "ipython3",
   "version": "3.9.12"
  }
 },
 "nbformat": 4,
 "nbformat_minor": 5
}
